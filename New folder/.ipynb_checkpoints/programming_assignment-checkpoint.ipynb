{
 "cells": [
  {
   "cell_type": "markdown",
   "metadata": {},
   "source": [
    "\n",
    "# Programming Assignment\n",
    "# Data Pre-processing, Exploratory Analysis and Data Prediction using Machine Learning\n"
   ]
  },
  {
   "cell_type": "markdown",
   "metadata": {},
   "source": [
    "## Description\n",
    "\n",
    "There are two parts in this assignment:\n",
    "- #### Part A\n",
    "  - You will have an opportunity to apply data pre-processing techniques that you learned in the class to a problem. In addition, you will do exploratory analysis on the given dataset.\n",
    "  \n",
    "- #### Part B\n",
    "  - You will have an opportunity to apply machine learning techniques that you learned in the class to a problem. In addition, you will learn to perform machine learning with the Keras Python library.\n",
    "\n",
    "To get started on this assignment, you need to download the given dataset and read the description carefully written on this page. Please note that all implementation of your program should be done with Python.\n",
    "<br/><br/>"
   ]
  },
  {
   "cell_type": "markdown",
   "metadata": {},
   "source": [
    "### Intended Learning Outcomes\n",
    "\n",
    "- Upon completion of <strong>Part A</strong> of this assignment, you should be able to:\n",
    "<ol>\n",
    "    <li>Demonstrate your understanding on how to pre-process data using the algorithms / techniques as described in the class.</li>\n",
    "    <li>Use simple descriptive statistical approaches to understand your data.</li>\n",
    "    <li>Construct Python program to analyse the data and draw simple conclusions from it.</li>\n",
    "</ol>\n",
    "<br />\n",
    "\n",
    "- Upon completion of <strong>Part 2</strong> of this assignment, you should be able to:\n",
    "<ol>\n",
    "    <li>Demonstrate your understanding on how to do prediction using the machine learning algorithms / techniques as described in the class.</li>\n",
    "    <li>Construct Python program to learn from the training data and do data prediction for the testing set.</li>\n",
    "</ol>"
   ]
  },
  {
   "cell_type": "markdown",
   "metadata": {},
   "source": [
    "### Required Libraries\n",
    "The following libraries are required for this assignment:\n",
    "<ol>\n",
    "    <li>Numpy - Numerical python</li>\n",
    "    <li>Scipy - Scientific python</li>\n",
    "    <li>Matplotlib - Python 2D plotting library</li>\n",
    "    <li>Seaborn - Visualization library based on matplotlib</li>\n",
    "    <li>Pandas - Python data analysis library</li>\n",
    "    <li>Keras - Deep learning library</li>\n",
    "</ol>"
   ]
  },
  {
   "cell_type": "markdown",
   "metadata": {},
   "source": [
    "### Dataset ~ Titanic (titanic-train.csv)\n",
    "This dataset contains the following features:\n",
    "<ul>\n",
    "    <li>PassengerId</li>\n",
    "    <li>Survived (Survival: 0 = No; 1 = Yes)</li>\n",
    "    <li>Pclass (Passenger Class: 1 = 1st; 2 = 2nd; 3 = 3rd)</li>\n",
    "    <li>Name (Name of the passenger)</li>\n",
    "    <li>Sex (Sex of the passenger)</li>\n",
    "    <li>Age (Age of the passenger)</li>\n",
    "    <li>SibSp (Number of siblings / spourses aboard)</li>\n",
    "    <li>Parch (Number of parents / children aboard)</li>\n",
    "    <li>Ticket (Ticket number of the passenger)</li>\n",
    "    <li>Fare (Passenger fare)</li>\n",
    "    <li>Cabin (Cabin number of the passenger)</li>\n",
    "    <li>Embarked (Port of Embarkation (C = Cherbourg; Q = Queenstown; S = Southampton) )</li>\n",
    "</ul>"
   ]
  },
  {
   "cell_type": "markdown",
   "metadata": {},
   "source": [
    "## Steps:\n",
    "<ol>\n",
    "    <li>Part A: Data Pre-processing and Exploratory Analysis  \n",
    "      (i.e. Preparing the training data)\n",
    "      <ul>\n",
    "      <li>1 Importing data and exploring the features.</li>\n",
    "      <li>2 Cleaning data: Handling missing values</li>\n",
    "      <li>3 Creating new features and dropping redundant features.</li>\n",
    "      <li>4 Transforming data.</li>\n",
    "      <li>5 Analysing data statistically.</li>\n",
    "      </ul>\n",
    "    </li>\n",
    "    <li>Part B: Data Prediction using Machine Learning  \n",
    "      <ul>\n",
    "      <li>1. Training the model. (Assignment 2)</li> \n",
    "      <li>2. Preparing the testing data (Assignment 2)</li>\n",
    "          <ul>    \n",
    "          <li>1 Importing data and exploring the features.</li>\n",
    "          <li>2 Cleaning data: Handling missing values</li>\n",
    "          <li>3 Creating new features and dropping redundant features.</li>\n",
    "          <li>4 Transforming data.</li>\n",
    "          </ul>\n",
    "      <li>3. Doing data prediction using the trained model.</li>\n",
    "      </ul>\n",
    "    </li>\n",
    "</ol>"
   ]
  },
  {
   "cell_type": "markdown",
   "metadata": {},
   "source": [
    "## Part A: Data Pre-processing and Exploratory Analysis"
   ]
  },
  {
   "cell_type": "markdown",
   "metadata": {},
   "source": [
    "### Step 1: Importing data and exploring the features\n",
    "\n",
    "#### Step 1.1 \n",
    "To start working with the Titanic dataset, you will need to import the required libraries, and read the data into a pandas DataFrame.\n",
    "- Import the following libraries using import statements.\n",
    "<ul>\n",
    "    <li>pandas (for data manipulation)</li>\n",
    "    <li>numpy (for multidimensional array computation)</li>\n",
    "    <li>seaborn and matplotlib.pyplot (both for data visualization)</li>\n",
    "</ul>\n",
    "- Read the csv file 'titanic-train.csv' using Pandas' read_csv function\n",
    "(<a href=\"https://pandas.pydata.org/pandas-docs/stable/generated/pandas.read_csv.html\">pandas.read_csv</a>)\n",
    "\n",
    "Note: Run a code cell by clicking on the cell and using the keyboard shortcut &lt;Shift&gt; + &lt;Enter&gt;."
   ]
  },
  {
   "cell_type": "code",
   "execution_count": null,
   "metadata": {},
   "outputs": [],
   "source": [
    "# Put your statements here"
   ]
  },
  {
   "cell_type": "markdown",
   "metadata": {},
   "source": [
    "#### Step 1.2\n",
    "Use head function (<a href=\"https://pandas.pydata.org/pandas-docs/stable/generated/pandas.DataFrame.head.html\">pandas.DataFrame.head</a>) of pandas library to preview the first 10 data."
   ]
  },
  {
   "cell_type": "code",
   "execution_count": null,
   "metadata": {},
   "outputs": [],
   "source": [
    "# Put your statement here"
   ]
  },
  {
   "cell_type": "markdown",
   "metadata": {},
   "source": [
    "#### Step 1.3\n",
    "Use tail function (<a href=\"https://pandas.pydata.org/pandas-docs/stable/generated/pandas.DataFrame.tail.html\">pandas.DataFrame.tail</a>) of pandas library to preview the last 10 data."
   ]
  },
  {
   "cell_type": "code",
   "execution_count": null,
   "metadata": {},
   "outputs": [],
   "source": [
    "# Put your statement here"
   ]
  },
  {
   "cell_type": "markdown",
   "metadata": {},
   "source": [
    "#### Step 1.4\n",
    "Display informtion on dataframe using info function (<a href=\"https://pandas.pydata.org/pandas-docs/stable/generated/pandas.DataFrame.info.html\">pandas.DataFrame.info</a>) of pandas library."
   ]
  },
  {
   "cell_type": "code",
   "execution_count": null,
   "metadata": {},
   "outputs": [],
   "source": [
    "# Put your statement here"
   ]
  },
  {
   "cell_type": "markdown",
   "metadata": {},
   "source": [
    "#### Step 1.5\n",
    "Evaluate the data quality & perform missing values assessment using isnull function (<a href=\"https://pandas.pydata.org/pandas-docs/stable/generated/pandas.isnull.html\">pandas.isnull</a>) and sum function (<a href=\"https://pandas.pydata.org/pandas-docs/stable/generated/pandas.DataFrame.sum.html\">pandas.DataFrame.sum</a>) of pandas library."
   ]
  },
  {
   "cell_type": "code",
   "execution_count": null,
   "metadata": {},
   "outputs": [],
   "source": [
    "# Put your statement here"
   ]
  },
  {
   "cell_type": "markdown",
   "metadata": {},
   "source": [
    "<span style=\"color:red\">What is your observation?</span>  "
   ]
  },
  {
   "cell_type": "markdown",
   "metadata": {},
   "source": [
    "Intstruction: Write down your observations by editing this markup cell.\n"
   ]
  },
  {
   "cell_type": "markdown",
   "metadata": {},
   "source": [
    "#### Step 1.6\n",
    "Evaluate the distribution of categorical features (e.g., Name, Sex, Ticket, Cabin, and Embarked) using describe function (<a href=\"https://pandas.pydata.org/pandas-docs/stable/generated/pandas.DataFrame.describe.html\">pandas.DataFrame.describe</a>) of the pandas library."
   ]
  },
  {
   "cell_type": "code",
   "execution_count": null,
   "metadata": {
    "scrolled": true
   },
   "outputs": [],
   "source": [
    "# Put your statement here"
   ]
  },
  {
   "cell_type": "markdown",
   "metadata": {},
   "source": [
    "<span style=\"color:red\">What is your observation?</span>  "
   ]
  },
  {
   "cell_type": "markdown",
   "metadata": {},
   "source": [
    "Intstruction: Write down your observations by editing this markup cell.\n"
   ]
  },
  {
   "cell_type": "markdown",
   "metadata": {},
   "source": [
    "### Step 2: Cleaning data: Handling missing values"
   ]
  },
  {
   "cell_type": "markdown",
   "metadata": {},
   "source": [
    "#### Step 2.1\n",
    "Refer to Step 1.5, there are missing values in three features.\n",
    "For the feature with the second least number of missing values, evaluate its distribution using hist function (<a href=\"https://pandas.pydata.org/pandas-docs/stable/generated/pandas.DataFrame.hist.html\">pandas.DataFrame.hist</a>) of pandas library."
   ]
  },
  {
   "cell_type": "code",
   "execution_count": null,
   "metadata": {},
   "outputs": [],
   "source": [
    "# Put your statements here"
   ]
  },
  {
   "cell_type": "markdown",
   "metadata": {},
   "source": [
    "<span style=\"color:red\">What is your observation?</span>  \n",
    "\n",
    "  \n",
    "    \n"
   ]
  },
  {
   "cell_type": "markdown",
   "metadata": {},
   "source": [
    "Intstruction: Write down your observations by editing this markup cell.\n"
   ]
  },
  {
   "cell_type": "markdown",
   "metadata": {},
   "source": [
    "#### Step 2.2\n",
    "For the feature with the least missing values, evaluate the distribution using countplot function (<a href=\"https://seaborn.pydata.org/generated/seaborn.countplot.html\">seaborn.countplot</a>) of seaborn library."
   ]
  },
  {
   "cell_type": "code",
   "execution_count": null,
   "metadata": {},
   "outputs": [],
   "source": [
    "# Put your statements here"
   ]
  },
  {
   "cell_type": "markdown",
   "metadata": {},
   "source": [
    "<span style=\"color:red\">What is your observation?</span>  \n",
    "  \n",
    "  \n",
    "    \n"
   ]
  },
  {
   "cell_type": "markdown",
   "metadata": {},
   "source": [
    "Intstruction: Write down your observations by editing this markup cell.\n"
   ]
  },
  {
   "cell_type": "markdown",
   "metadata": {},
   "source": [
    "#### Step 2.3\n",
    "- For the feature with the second least missing values, if the data is not skewed, using mean to impute the missing values. Otherwise using median.\n",
    "- For the feature with the least missing values, impute the missing values with most the common value."
   ]
  },
  {
   "cell_type": "markdown",
   "metadata": {},
   "source": [
    "##### Step 2.3.1\n",
    "Compute the mean OR median of the second least missing values using mean (<a href=\"https://pandas.pydata.org/pandas-docs/stable/generated/pandas.DataFrame.mean.html\">pandas.DataFrame.mean</a>) / median function (<a href=\"https://pandas.pydata.org/pandas-docs/stable/generated/pandas.DataFrame.median.html\">pandas.DataFrame.median</a>) of pandas library.\n",
    "\n",
    "Note: You have to skip all the missing values when computing the mean or median."
   ]
  },
  {
   "cell_type": "code",
   "execution_count": null,
   "metadata": {},
   "outputs": [],
   "source": [
    "# Put your statement here\n"
   ]
  },
  {
   "cell_type": "markdown",
   "metadata": {},
   "source": [
    "<span style=\"color:red\">What is your observation?</span>  \n",
    "Write down your observation here in the cell:  \n",
    "  \n",
    "  \n",
    "    \n"
   ]
  },
  {
   "cell_type": "markdown",
   "metadata": {},
   "source": [
    "Intstruction: Write down your observations by editing this markup cell.\n"
   ]
  },
  {
   "cell_type": "markdown",
   "metadata": {},
   "source": [
    "##### Step 2.3.2\n",
    "Use mean / median to impute the missing values of the feature with the second least missing values. fillna function (<a href=\"https://pandas.pydata.org/pandas-docs/stable/generated/pandas.DataFrame.fillna.html\">pandas.DataFrame.fillna</a>) of pandas library can be used."
   ]
  },
  {
   "cell_type": "code",
   "execution_count": null,
   "metadata": {},
   "outputs": [],
   "source": [
    "# Put your statement here\n"
   ]
  },
  {
   "cell_type": "markdown",
   "metadata": {},
   "source": [
    "##### Step 2.3.3\n",
    "Use the most common value of the feature with the least missing values to impute the missing values. Again, fillna function (<a href=\"https://pandas.pydata.org/pandas-docs/stable/generated/pandas.DataFrame.fillna.html\">pandas.DataFrame.fillna</a>) of the pandas library can be used."
   ]
  },
  {
   "cell_type": "code",
   "execution_count": null,
   "metadata": {},
   "outputs": [],
   "source": [
    "# Put your statement here\n"
   ]
  },
  {
   "cell_type": "markdown",
   "metadata": {},
   "source": [
    "### Step 3: Creating new features and dropping redundant features"
   ]
  },
  {
   "cell_type": "markdown",
   "metadata": {},
   "source": [
    "#### Step 3.1\n",
    "Create a new feature called Family based on Parch and SibSp.\n",
    "- Define a new feature 'Family' and assign it with the sum of SibSp and Parch."
   ]
  },
  {
   "cell_type": "code",
   "execution_count": null,
   "metadata": {},
   "outputs": [],
   "source": [
    "# Put your statement here\n"
   ]
  },
  {
   "cell_type": "markdown",
   "metadata": {},
   "source": [
    "#### Step 3.2\n",
    "Use head function (<a href=\"https://pandas.pydata.org/pandas-docs/stable/generated/pandas.DataFrame.head.html\">pandas.DataFrame.head</a>) of pandas library to preview the first 10 data."
   ]
  },
  {
   "cell_type": "code",
   "execution_count": null,
   "metadata": {},
   "outputs": [],
   "source": [
    "# Put your statement here\n"
   ]
  },
  {
   "cell_type": "markdown",
   "metadata": {},
   "source": [
    "#### Step 3.3\n",
    "- PassengerId, Name, Ticket, and Cabin may be dropped (using drop function (<a href=\"https://pandas.pydata.org/pandas-docs/stable/generated/pandas.DataFrame.drop.html\">pandas.DataFrame.drop</a>) of the pandas library) as they contain high ratio of duplicates and there may not be a correlation to survivial.\n",
    "- In addition, SibSp and Parch can be dropped as the feature 'Family' has been defined."
   ]
  },
  {
   "cell_type": "code",
   "execution_count": null,
   "metadata": {},
   "outputs": [],
   "source": [
    "# Put your statement here\n"
   ]
  },
  {
   "cell_type": "markdown",
   "metadata": {},
   "source": [
    "#### Step 3.4\n",
    "Use head function (<a href=\"https://pandas.pydata.org/pandas-docs/stable/generated/pandas.DataFrame.head.html\">pandas.DataFrame.head</a>) of pandas library to preview the first 10 data."
   ]
  },
  {
   "cell_type": "code",
   "execution_count": null,
   "metadata": {},
   "outputs": [],
   "source": [
    "# Put your statement here\n"
   ]
  },
  {
   "cell_type": "markdown",
   "metadata": {},
   "source": [
    "### Step 4: Transforming data"
   ]
  },
  {
   "cell_type": "markdown",
   "metadata": {},
   "source": [
    "##### Step 4.1\n",
    "- Update the Family's values using where function (<a href=\"https://docs.scipy.org/doc/numpy-1.14.0/reference/generated/numpy.where.html\">numpy.where</a>) of numpy library as follows:\n",
    "<ul>\n",
    "    <li>0 if the Family's count is 0, which means single.</li>\n",
    "    <li>1 if the Family's count is greater than or equal to 1 AND less than or equal to 4, which means small family.</li>\n",
    "    <li>2 if the Family's count is greater than or equal to 5, means large family</li>\n",
    "</ul>"
   ]
  },
  {
   "cell_type": "code",
   "execution_count": null,
   "metadata": {},
   "outputs": [],
   "source": [
    "# Put your statements here\n"
   ]
  },
  {
   "cell_type": "markdown",
   "metadata": {},
   "source": [
    "#### Step 4.2\n",
    "- Update the Sex's values to 1 if the original value is 'male'. Otherwise, update it to 0.\n",
    "- where function (<a href=\"https://docs.scipy.org/doc/numpy-1.14.0/reference/generated/numpy.where.html\">numpy.where</a>) of numpy library can be used."
   ]
  },
  {
   "cell_type": "code",
   "execution_count": null,
   "metadata": {},
   "outputs": [],
   "source": [
    "# Put your statement here\n"
   ]
  },
  {
   "cell_type": "markdown",
   "metadata": {},
   "source": [
    "#### Step 4.3\n",
    "- Update the Embarked values using where function (<a href=\"https://docs.scipy.org/doc/numpy-1.14.0/reference/generated/numpy.where.html\">numpy.where</a>) of numpy library as follows:\n",
    "<ul>\n",
    "    <li>0 if the Embarked value is C.</li>\n",
    "    <li>1 if the Embarked value is Q.</li>\n",
    "    <li>2 if teh Embarked value is S.</li>\n",
    "</ul>"
   ]
  },
  {
   "cell_type": "code",
   "execution_count": null,
   "metadata": {},
   "outputs": [],
   "source": [
    "# Put your statements here\n"
   ]
  },
  {
   "cell_type": "markdown",
   "metadata": {},
   "source": [
    "#### Step 4.4\n",
    "- Update the Fare values using where function (<a href=\"https://docs.scipy.org/doc/numpy-1.14.0/reference/generated/numpy.where.html\">numpy.where</a>) of numpy library as follows:\n",
    "<ul>\n",
    "    <li>0 if the Fare value is less than or equal to 7.91</li>\n",
    "    <li>1 if the Fare value is greater than 7.91 AND less than or equal to 14.454</li>\n",
    "    <li>2 if the Fare value is greater than 14.454 AND less than or equal to 31</li>\n",
    "    <li>3 if the Fare value is greater than 31</li>\n",
    "</ul>"
   ]
  },
  {
   "cell_type": "code",
   "execution_count": null,
   "metadata": {},
   "outputs": [],
   "source": [
    "# Put your statements here\n"
   ]
  },
  {
   "cell_type": "markdown",
   "metadata": {},
   "source": [
    "#### Step 4.5\n",
    "- Update the Age values using where function (<a href=\"https://docs.scipy.org/doc/numpy-1.14.0/reference/generated/numpy.where.html\">numpy.where</a>) of numpy library as follows:\n",
    "<ul>\n",
    "    <li>0 if the Age value is less than or equal to 16</li>\n",
    "    <li>1 if the Age value is greater than 16 AND less than or equal to 32</li>\n",
    "    <li>2 if the Age value is greater than 32 AND less than or equal to 48</li>\n",
    "    <li>3 if the Age value is greater than 48 AND less than or equal to 64</li>\n",
    "    <li>4 if the Age value is greater than 64</li>\n",
    "</ul>"
   ]
  },
  {
   "cell_type": "code",
   "execution_count": null,
   "metadata": {},
   "outputs": [],
   "source": [
    "# Put your statements here\n"
   ]
  },
  {
   "cell_type": "markdown",
   "metadata": {},
   "source": [
    "#### Step 4.6\n",
    "Change Embarked data to int type using astype function (<a href=\"https://pandas.pydata.org/pandas-docs/stable/generated/pandas.DataFrame.astype.html\">pandas.DataFrame.astype</a>) of pandas library."
   ]
  },
  {
   "cell_type": "code",
   "execution_count": null,
   "metadata": {},
   "outputs": [],
   "source": [
    "# Put your statement here\n"
   ]
  },
  {
   "cell_type": "markdown",
   "metadata": {},
   "source": [
    "#### Step 4.7\n",
    "Change Fare data from float to int type using astype function (<a href=\"https://pandas.pydata.org/pandas-docs/stable/generated/pandas.DataFrame.astype.html\">pandas.DataFrame.astype</a>) of pandas library."
   ]
  },
  {
   "cell_type": "code",
   "execution_count": null,
   "metadata": {},
   "outputs": [],
   "source": [
    "# Put your statement here\n"
   ]
  },
  {
   "cell_type": "markdown",
   "metadata": {},
   "source": [
    "#### Step 4.8\n",
    "Change Age data from float to int type using astype function (<a href=\"https://pandas.pydata.org/pandas-docs/stable/generated/pandas.DataFrame.astype.html\">pandas.DataFrame.astype</a>) of pandas library."
   ]
  },
  {
   "cell_type": "code",
   "execution_count": null,
   "metadata": {},
   "outputs": [],
   "source": [
    "# Put your statement here\n"
   ]
  },
  {
   "cell_type": "markdown",
   "metadata": {},
   "source": [
    "#### Step 4.9\n",
    "Use head function (<a href=\"https://pandas.pydata.org/pandas-docs/stable/generated/pandas.DataFrame.head.html\">pandas.DataFrame.head</a>) of pandas library to preview the first 20 data."
   ]
  },
  {
   "cell_type": "code",
   "execution_count": null,
   "metadata": {},
   "outputs": [],
   "source": [
    "# Put your statement here\n"
   ]
  },
  {
   "cell_type": "markdown",
   "metadata": {},
   "source": [
    "### Step 5: Analysing data statistically and graphically"
   ]
  },
  {
   "cell_type": "markdown",
   "metadata": {},
   "source": [
    "#### Step 5.1\n",
    "Use describe function (<a href=\"https://pandas.pydata.org/pandas-docs/stable/generated/pandas.DataFrame.describe.html\">pands.DataFrame.describe</a>) of pandas library to generate descriptive statistics that summarize the central tendency, dispersion and shape of a dataset's distribution."
   ]
  },
  {
   "cell_type": "code",
   "execution_count": null,
   "metadata": {
    "scrolled": false
   },
   "outputs": [],
   "source": [
    "# Put your statement here\n"
   ]
  },
  {
   "cell_type": "markdown",
   "metadata": {},
   "source": [
    "#### Step 5.2\n",
    "Explore survival rate using countplot function (<a href=\"https://seaborn.pydata.org/generated/seaborn.countplot.html\">seaborn.countplot</a>) of seaborn library."
   ]
  },
  {
   "cell_type": "code",
   "execution_count": null,
   "metadata": {},
   "outputs": [],
   "source": [
    "# Put your statements here\n"
   ]
  },
  {
   "cell_type": "markdown",
   "metadata": {},
   "source": [
    "#### Step 5.3\n",
    "Perform other data analysis (e.g. on the features) to explore the factors constituting higher survival rate."
   ]
  },
  {
   "cell_type": "code",
   "execution_count": null,
   "metadata": {},
   "outputs": [],
   "source": [
    "# Put your statements here"
   ]
  },
  {
   "cell_type": "markdown",
   "metadata": {},
   "source": [
    "<span style=\"color:red\">What are your observations?</span>"
   ]
  },
  {
   "cell_type": "markdown",
   "metadata": {},
   "source": [
    "Intstruction: Write down your observations by editing this markup cell.\n"
   ]
  },
  {
   "cell_type": "markdown",
   "metadata": {},
   "source": [
    "## Part B: Data Pre-processing and Exploratory Analysis"
   ]
  },
  {
   "cell_type": "markdown",
   "metadata": {},
   "source": [
    "### Step 0: Installation and Importing the libraries"
   ]
  },
  {
   "cell_type": "markdown",
   "metadata": {},
   "source": [
    "#### Step 0.1 \n",
    "We are going to use <strong>Keras</strong> which will be using <strong>Tensorflow</strong> as backend.\n",
    "Therefore, you will need to install Tensorflow and Keras first\n",
    "<br/>\n",
    "<ol>\n",
    "   <li>To install Tesnsorflow:\n",
    "      <ul>\n",
    "         <li>Start the \"Anaconda Prompt\" and enter the following command:<br/>\n",
    "         pip install --ignore-installed --upgrade tensorflow </li>\n",
    "         <li>For more information on installing Tensorflow: <url>https://www.tensorflow.org/install/</url></li>\n",
    "      </ul>\n",
    "   </li>\n",
    "   <li>To install Keras:\n",
    "      <ul>\n",
    "         <li>In the \"Anaconda Prompt\", enter the following command:<br />\n",
    "         pip install keras \n",
    "         </li>\n",
    "         <li>For more information on installing Keras: <url>https://keras.io/#installation</url></li>\n",
    "      </ul>\n",
    "   </li>\n",
    "</ol>"
   ]
  },
  {
   "cell_type": "markdown",
   "metadata": {},
   "source": [
    "### Step 1: Training the model\n",
    "\n",
    "#### Step 1.1\n",
    "Import the following libraries using import statements.\n",
    "<ul>\n",
    "    <li>keras (for deep learning) (Reference: <url>https://keras.io/</url>)\n",
    "        <ul>\n",
    "            <li>Sequential from keras.models</li>\n",
    "            <li>Dense from keras.layers</li>\n",
    "            <li>ModelCheckpoint from keras.callbacks</li>\n",
    "        </ul>\n",
    "    </li>    \n",
    "</ul>\n",
    "Note: Run a code cell by clicking on the cell and using the keyboard shortcut &lt;Shift&gt; + &lt;Enter&gt;.\n",
    "<br />\n",
    "Note: Tensorflow and Keras have to be installed first, see <strong>Step 0.1</strong>"
   ]
  },
  {
   "cell_type": "code",
   "execution_count": null,
   "metadata": {},
   "outputs": [],
   "source": [
    "# Put your statements here\n",
    "\n",
    "\n"
   ]
  },
  {
   "cell_type": "markdown",
   "metadata": {},
   "source": [
    "#### Step 1.2\n",
    "Prepare training data - feature set and label set\n",
    "- Build feature set X by extracting 'Pclass', 'Sex', 'Age', 'Fare', 'Embarked' and 'Family' from trainData\n",
    "- Build label set Y by extracting 'Survived' from trainData"
   ]
  },
  {
   "cell_type": "code",
   "execution_count": null,
   "metadata": {},
   "outputs": [],
   "source": [
    "# Put your statements here\n",
    "\n"
   ]
  },
  {
   "cell_type": "markdown",
   "metadata": {},
   "source": [
    "#### Step 1.3\n",
    "- Build a neural network to learn from the given training set - trainData.\n",
    "(Reference: <a href=\"https://keras.io/guides/sequential_model/\">Here</a>)\n",
    "<ol>\n",
    "  <li>Initalizing a neural network using Sequential() function and name the returned object NN.</li>\n",
    "  <li>Adding the input layer and the hidden layer using add function of NN and Dense function.<br/>\n",
    "      Parameters of Dense function:\n",
    "      <ul>\n",
    "          <li>Set output_dim to 9: output_dim is the number of nodes we want to add to this layer.</li>\n",
    "          <li>kernel_initializer to 'random_uniform': the initialization of weights for stochastic gradient decent.\n",
    "          </li>\n",
    "          <li>activation to 'sigmoid': activation is the activation function of the node.</li>\n",
    "          <li>input_dim to 6: input_dim refers to the number of inputs, which is only needed for the first layer.</li>\n",
    "      </ul>\n",
    "  </li>\n",
    "  <li>Adding the output layer using add function of NN and Dense function.<br/>\n",
    "      Parameters of Dense function:\n",
    "      <ul>\n",
    "          <li>Set output_dim to 1: output_dim is the number of nodes we want to add to this layer.</li>\n",
    "          <li>kernel_initializer to 'random_uniform': the initialization of weights for stochastic gradient decent.</li>\n",
    "          <li>activation to 'sigmoid': activation is the activation function of the node.</li>\n",
    "      </ul>\n",
    "  </li>\n",
    "  <li>Prints a summary representation of our model by calling summary function of NN.</li>\n",
    "</ol>\n",
    "\n",
    "For more information about the weight initializer: <a href=\"here\">https://keras.io/api/layers/initializers/</a>"
   ]
  },
  {
   "cell_type": "code",
   "execution_count": null,
   "metadata": {},
   "outputs": [],
   "source": [
    "# Put your statements here\n",
    "\n",
    "\n"
   ]
  },
  {
   "cell_type": "markdown",
   "metadata": {},
   "source": [
    "#### Step 1.4\n",
    "- Compile the neural network and start training\n",
    "<ol>\n",
    "  <li>Call compile function of NN to compile the neural network<br/>\n",
    "      Parameters of compile function:\n",
    "      <ul>\n",
    "          <li>loss to 'binary_crossentropy': loss is a stochastic gradient decent depends on loss. Since the dependent variable in our case is binary, we will have to use logarithmic loss function called 'binary_crossentropy'.</li>\n",
    "          <li>optimizer to 'Adam': optimizer is the algorithm that we want to use to find optimal set of weights. For details about 'Adam', please visit <a href=\"https://arxiv.org/abs/1412.6980v8\">here</a>.              \n",
    "          </li>\n",
    "          <li>metrics to ['accuracy']: metrics is the metric(s) that we want to use to improve the performance of our neural network. In our case, accuracy is the metrics.</li>\n",
    "      </ul>\n",
    "  </li>\n",
    "  <li>Call fit function of NN to train the model on training data<br/>\n",
    "      Parameters of fit function:\n",
    "      <ul>\n",
    "          <li>Set x to X: x is the numpy array of training data.</li>\n",
    "          <li>Set y to Y: y is the numpy array of label data.</li>\n",
    "          <li>Set batch_size to 32: batch_size is the number of samples per gradient update.</li>\n",
    "          <li>Set epochs to 10000: epochs is the number of epochs to train the model.</li>\n",
    "      </ul>\n",
    "  </li>\n",
    "</ol>"
   ]
  },
  {
   "cell_type": "code",
   "execution_count": null,
   "metadata": {},
   "outputs": [],
   "source": [
    "# Put your statements here\n",
    "\n"
   ]
  },
  {
   "cell_type": "markdown",
   "metadata": {},
   "source": [
    "### Step 2: Preparing the testing data\n",
    "\n",
    "Steps for preprocessing the testing data:\n",
    "<ol>\n",
    "<li>Importing data and exploring the features.</li>\n",
    "<li>Cleaning data: Handling missing values</li>\n",
    "<li>Creating new features and dropping redundant features.</li>\n",
    "<li>Transforming data.</li>\n",
    "</ol>"
   ]
  },
  {
   "cell_type": "markdown",
   "metadata": {},
   "source": [
    "#### Step 2.1 Importing data and exploring the features \n",
    "##### Step 2.1.1\n",
    "Read the csv file 'titanic-test.csv' using Pandas' read_csv function (<a href=\"https://pandas.pydata.org/pandas-docs/stable/generated/pandas.read_csv.html\">pandas.read_csv</a>)\n",
    "Note: Run a code cell by clicking on the cell and using the keyboard shortcut &lt;Shift&gt; + &lt;Enter&gt;."
   ]
  },
  {
   "cell_type": "code",
   "execution_count": null,
   "metadata": {},
   "outputs": [],
   "source": [
    "# Put your statements here\n"
   ]
  },
  {
   "cell_type": "markdown",
   "metadata": {},
   "source": [
    "##### Step 2.1.2\n",
    "Use head function (<a href=\"https://pandas.pydata.org/pandas-docs/stable/generated/pandas.DataFrame.head.html\">pandas.DataFrame.head</a>) of pandas library to preview the first 10 data."
   ]
  },
  {
   "cell_type": "code",
   "execution_count": null,
   "metadata": {},
   "outputs": [],
   "source": [
    "# Put your statements here\n"
   ]
  },
  {
   "cell_type": "markdown",
   "metadata": {},
   "source": [
    "##### Step 2.1.3\n",
    "Use tail function (<a href=\"https://pandas.pydata.org/pandas-docs/stable/generated/pandas.DataFrame.tail.html\">pandas.DataFrame.tail</a>) of pandas library to preview the last 10 data."
   ]
  },
  {
   "cell_type": "code",
   "execution_count": null,
   "metadata": {},
   "outputs": [],
   "source": [
    "# Put your statements here\n"
   ]
  },
  {
   "cell_type": "markdown",
   "metadata": {},
   "source": [
    "##### Step 2.1.4\n",
    "Display informtion on dataframe using info function (<a href=\"https://pandas.pydata.org/pandas-docs/stable/generated/pandas.DataFrame.info.html\">pandas.DataFrame.info</a>) of pandas library."
   ]
  },
  {
   "cell_type": "code",
   "execution_count": null,
   "metadata": {},
   "outputs": [],
   "source": [
    "# Put your statements here\n"
   ]
  },
  {
   "cell_type": "markdown",
   "metadata": {},
   "source": [
    "##### Step 2.1.5\n",
    "Evaluate the data quality & perform missing values assessment using isnull function (<a href=\"https://pandas.pydata.org/pandas-docs/stable/generated/pandas.isnull.html\">pandas.isnull</a>) and sum function (<a href=\"https://pandas.pydata.org/pandas-docs/stable/generated/pandas.DataFrame.sum.html\">pandas.DataFrame.sum</a>) of pandas library."
   ]
  },
  {
   "cell_type": "code",
   "execution_count": null,
   "metadata": {},
   "outputs": [],
   "source": [
    "# Put your statements here\n"
   ]
  },
  {
   "cell_type": "markdown",
   "metadata": {},
   "source": [
    "##### Step 2.1.6\n",
    "Evaluate the distribution of categorical features (e.g., Name, Sex, Ticket, Cabin, and Embarked) using describe function (<a href=\"https://pandas.pydata.org/pandas-docs/stable/generated/pandas.DataFrame.describe.html\">pandas.DataFrame.describe</a>) of the pandas library."
   ]
  },
  {
   "cell_type": "code",
   "execution_count": null,
   "metadata": {},
   "outputs": [],
   "source": [
    "# Put your statements here\n"
   ]
  },
  {
   "cell_type": "markdown",
   "metadata": {},
   "source": [
    "#### Step 2.2 Cleaning Data: Handling missing values \n",
    "##### Step 2.2.1\n",
    "Refer to Step 2.1.5, there are missing values in three features.\n",
    "For the feature with the second least number of missing values, evaluate its distribution using hist function (<a href=\"https://pandas.pydata.org/pandas-docs/stable/generated/pandas.DataFrame.hist.html\">pandas.DataFrame.hist</a>) of pandas library."
   ]
  },
  {
   "cell_type": "code",
   "execution_count": null,
   "metadata": {},
   "outputs": [],
   "source": [
    "# Put your statements here\n",
    "\n",
    "\n"
   ]
  },
  {
   "cell_type": "markdown",
   "metadata": {},
   "source": [
    "#### Step 2.2.2\n",
    "- For the feature with the second least missing values, if the data is not skewed, using mean to impute the missing values. Otherwise using median.\n",
    "\n",
    "##### Step 2.2.2.1\n",
    "Compute the mean OR median of the second least missing values using mean (<a href=\"https://pandas.pydata.org/pandas-docs/stable/generated/pandas.DataFrame.mean.html\">pandas.DataFrame.mean</a>) / median function (<a href=\"https://pandas.pydata.org/pandas-docs/stable/generated/pandas.DataFrame.median.html\">pandas.DataFrame.median</a>) of pandas library.\n",
    "\n",
    "Note: You have to skip all the missing values when computing the mean or median."
   ]
  },
  {
   "cell_type": "code",
   "execution_count": null,
   "metadata": {},
   "outputs": [],
   "source": [
    "# Put your statement here\n"
   ]
  },
  {
   "cell_type": "markdown",
   "metadata": {},
   "source": [
    "##### Step 2.2.2.2\n",
    "Use the mean value of the feature with the least missing values to impute the missing values. Again, fillna function (<a href=\"https://pandas.pydata.org/pandas-docs/stable/generated/pandas.DataFrame.fillna.html\">pandas.DataFrame.fillna</a>) of the pandas library can be used."
   ]
  },
  {
   "cell_type": "code",
   "execution_count": null,
   "metadata": {},
   "outputs": [],
   "source": [
    "# Put your statement here\n"
   ]
  },
  {
   "cell_type": "markdown",
   "metadata": {},
   "source": [
    "##### Step 2.2.2.3\n",
    "Use mean / median to impute the missing values of the feature with the second least missing values. fillna function (<a href=\"https://pandas.pydata.org/pandas-docs/stable/generated/pandas.DataFrame.fillna.html\">pandas.DataFrame.fillna</a>) of pandas library can be used."
   ]
  },
  {
   "cell_type": "code",
   "execution_count": null,
   "metadata": {},
   "outputs": [],
   "source": [
    "# Put your statement here\n"
   ]
  },
  {
   "cell_type": "markdown",
   "metadata": {},
   "source": [
    "#### Step 2.3: Creating new features and dropping redundant features\n",
    "##### Step 2.3.1\n",
    "Create a new feature called Family based on Parch and SibSp.\n",
    "- Define a new feature 'Family' and assign it with the sum of SibSp and Parch."
   ]
  },
  {
   "cell_type": "code",
   "execution_count": null,
   "metadata": {},
   "outputs": [],
   "source": [
    "# Put your statement here\n"
   ]
  },
  {
   "cell_type": "markdown",
   "metadata": {},
   "source": [
    "##### Step 2.3.2\n",
    "Use head function (<a href=\"https://pandas.pydata.org/pandas-docs/stable/generated/pandas.DataFrame.head.html\">pandas.DataFrame.head</a>) of pandas library to preview the first 10 data."
   ]
  },
  {
   "cell_type": "code",
   "execution_count": null,
   "metadata": {},
   "outputs": [],
   "source": [
    "# Put your statement here\n"
   ]
  },
  {
   "cell_type": "markdown",
   "metadata": {},
   "source": [
    "##### Step 2.3.3\n",
    "- PassengerId, Name, Ticket, and Cabin may be dropped (using drop function (<a href=\"https://pandas.pydata.org/pandas-docs/stable/generated/pandas.DataFrame.drop.html\">pandas.DataFrame.drop</a>) of the pandas library) as they contain high ratio of duplicates and there may not be a correlation to survivial.\n",
    "- In addition, SibSp and Parch can be dropped as the feature 'Family' has been defined."
   ]
  },
  {
   "cell_type": "code",
   "execution_count": null,
   "metadata": {},
   "outputs": [],
   "source": [
    "# Put your statement here\n"
   ]
  },
  {
   "cell_type": "markdown",
   "metadata": {},
   "source": [
    "##### Step 2.3.4\n",
    "Use head function (<a href=\"https://pandas.pydata.org/pandas-docs/stable/generated/pandas.DataFrame.head.html\">pandas.DataFrame.head</a>) of pandas library to preview the first 10 data."
   ]
  },
  {
   "cell_type": "code",
   "execution_count": null,
   "metadata": {},
   "outputs": [],
   "source": [
    "# Put your statements here\n"
   ]
  },
  {
   "cell_type": "markdown",
   "metadata": {},
   "source": [
    "#### Step 2.4: Transforming data\n",
    "##### Step 2.4.1\n",
    "- Update the Family's values using where function (<a href=\"https://docs.scipy.org/doc/numpy-1.14.0/reference/generated/numpy.where.html\">numpy.where</a>) of numpy library as follows:\n",
    "<ul>\n",
    "    <li>0 if the Family's count is 0, which means single.</li>\n",
    "    <li>1 if the Family's count is greater than or equal to 1 AND less than or equal to 4, which means small family.</li>\n",
    "    <li>2 if the Family's count is greater than or equal to 5, means large family</li>\n",
    "</ul>"
   ]
  },
  {
   "cell_type": "code",
   "execution_count": null,
   "metadata": {},
   "outputs": [],
   "source": [
    "# Put your statements here\n",
    "\n",
    "\n"
   ]
  },
  {
   "cell_type": "markdown",
   "metadata": {},
   "source": [
    "##### Step 2.4.2\n",
    "- Update the Sex's values to 1 if the original value is 'male'. Otherwise, update it to 0.\n",
    "- where function (<a href=\"https://docs.scipy.org/doc/numpy-1.14.0/reference/generated/numpy.where.html\">numpy.where</a>) of numpy library can be used."
   ]
  },
  {
   "cell_type": "code",
   "execution_count": null,
   "metadata": {},
   "outputs": [],
   "source": [
    "# Put your statement here\n"
   ]
  },
  {
   "cell_type": "markdown",
   "metadata": {},
   "source": [
    "##### Step 2.4.3\n",
    "- Update the Embarked values using where function (<a href=\"https://docs.scipy.org/doc/numpy-1.14.0/reference/generated/numpy.where.html\">numpy.where</a>) of numpy library as follows:\n",
    "<ul>\n",
    "    <li>0 if the Embarked value is C.</li>\n",
    "    <li>1 if the Embarked value is Q.</li>\n",
    "    <li>2 if teh Embarked value is S.</li>\n",
    "</ul>"
   ]
  },
  {
   "cell_type": "code",
   "execution_count": null,
   "metadata": {},
   "outputs": [],
   "source": [
    "# Put your statements here\n",
    "\n",
    "\n"
   ]
  },
  {
   "cell_type": "markdown",
   "metadata": {},
   "source": [
    "##### Step 2.4.4\n",
    "- Update the Fare values using where function (<a href=\"https://docs.scipy.org/doc/numpy-1.14.0/reference/generated/numpy.where.html\">numpy.where</a>) of numpy library as follows:\n",
    "<ul>\n",
    "    <li>0 if the Fare value is less than or equal to 7.91</li>\n",
    "    <li>1 if the Fare value is greater than 7.91 AND less than or equal to 14.454</li>\n",
    "    <li>2 if the Fare value is greater than 14.454 AND less than or equal to 31</li>\n",
    "    <li>3 if the Fare value is greater than 31</li>\n",
    "</ul>"
   ]
  },
  {
   "cell_type": "code",
   "execution_count": null,
   "metadata": {},
   "outputs": [],
   "source": [
    "# Put your statements here\n",
    "\n",
    "\n",
    "\n"
   ]
  },
  {
   "cell_type": "markdown",
   "metadata": {},
   "source": [
    "##### Step 2.4.5\n",
    "- Update the Age values using where function (<a href=\"https://docs.scipy.org/doc/numpy-1.14.0/reference/generated/numpy.where.html\">numpy.where</a>) of numpy library as follows:\n",
    "<ul>\n",
    "    <li>0 if the Age value is less than or equal to 16</li>\n",
    "    <li>1 if the Age value is greater than 16 AND less than or equal to 32</li>\n",
    "    <li>2 if the Age value is greater than 32 AND less than or equal to 48</li>\n",
    "    <li>3 if the Age value is greater than 48 AND less than or equal to 64</li>\n",
    "    <li>4 if the Age value is greater than 64</li>\n",
    "</ul>"
   ]
  },
  {
   "cell_type": "code",
   "execution_count": null,
   "metadata": {},
   "outputs": [],
   "source": [
    "# Put your statements here\n",
    "\n",
    "\n",
    "\n",
    "\n"
   ]
  },
  {
   "cell_type": "markdown",
   "metadata": {},
   "source": [
    "##### Step 2.4.6\n",
    "Change Embarked data to int type using astype function (<a href=\"https://pandas.pydata.org/pandas-docs/stable/generated/pandas.DataFrame.astype.html\">pandas.DataFrame.astype</a>) of pandas library."
   ]
  },
  {
   "cell_type": "code",
   "execution_count": null,
   "metadata": {},
   "outputs": [],
   "source": [
    "# Put your statement here\n"
   ]
  },
  {
   "cell_type": "markdown",
   "metadata": {},
   "source": [
    "##### Step 2.4.7\n",
    "Change Fare data from float to int type using astype function (<a href=\"https://pandas.pydata.org/pandas-docs/stable/generated/pandas.DataFrame.astype.html\">pandas.DataFrame.astype</a>) of pandas library."
   ]
  },
  {
   "cell_type": "code",
   "execution_count": null,
   "metadata": {},
   "outputs": [],
   "source": [
    "# Put your statement here\n"
   ]
  },
  {
   "cell_type": "markdown",
   "metadata": {},
   "source": [
    "##### Step 2.4.8\n",
    "Change Age data from float to int type using astype function (<a href=\"https://pandas.pydata.org/pandas-docs/stable/generated/pandas.DataFrame.astype.html\">pandas.DataFrame.astype</a>) of pandas library."
   ]
  },
  {
   "cell_type": "code",
   "execution_count": null,
   "metadata": {},
   "outputs": [],
   "source": [
    "# Put your statement here\n"
   ]
  },
  {
   "cell_type": "markdown",
   "metadata": {},
   "source": [
    "##### Step 2.4.9\n",
    "Use head function (<a href=\"https://pandas.pydata.org/pandas-docs/stable/generated/pandas.DataFrame.head.html\">pandas.DataFrame.head</a>) of pandas library to preview the first 20 data."
   ]
  },
  {
   "cell_type": "code",
   "execution_count": null,
   "metadata": {},
   "outputs": [],
   "source": [
    "# Put your statement here\n"
   ]
  },
  {
   "cell_type": "markdown",
   "metadata": {},
   "source": [
    "### Step 3: Use the NN model to predict the results\n",
    "\n",
    "Predicting whether or not the passengers survived the sinking of the Titanic.\n",
    "<ol>\n",
    "    <li>Use predict function of NN to predict testData. The predictions will be in the range between 0 and 1.</li>\n",
    "    <li>If the predicted value is greater than 0.5, set it to 1, otherwise, set it to 0.\n",
    "    </li>\n",
    "    <li>Save the classification results to a CSV file: prediction-ann.csv (for example, you may use the pandas.DataFrame.to_csv function).</li>\n",
    "</ol>"
   ]
  },
  {
   "cell_type": "code",
   "execution_count": null,
   "metadata": {},
   "outputs": [],
   "source": [
    "# Put your statements here\n",
    "\n",
    "\n",
    "\n"
   ]
  },
  {
   "cell_type": "markdown",
   "metadata": {},
   "source": [
    "### Submission\n",
    "Submit your jupyter notebook (.ipynb) and the classification results (prediction-ann.csv)."
   ]
  },
  {
   "cell_type": "code",
   "execution_count": null,
   "metadata": {},
   "outputs": [],
   "source": []
  }
 ],
 "metadata": {
  "kernelspec": {
   "display_name": "Python 3 (ipykernel)",
   "language": "python",
   "name": "python3"
  },
  "language_info": {
   "codemirror_mode": {
    "name": "ipython",
    "version": 3
   },
   "file_extension": ".py",
   "mimetype": "text/x-python",
   "name": "python",
   "nbconvert_exporter": "python",
   "pygments_lexer": "ipython3",
   "version": "3.10.9"
  }
 },
 "nbformat": 4,
 "nbformat_minor": 2
}
